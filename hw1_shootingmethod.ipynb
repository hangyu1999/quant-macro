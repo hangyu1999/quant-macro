{
 "cells": [
  {
   "cell_type": "markdown",
   "metadata": {},
   "source": [
    "After seetting up Lagrange problem, we have first order conditions as\n",
    "\n",
    "\\begin{equation*}\n",
    "\\begin{aligned}\n",
    "&(c_t-l_t^{2})^{-\\sigma} = \\lambda_t\\\\\n",
    "&(c_t-l_t^{2})^{-\\sigma}2l_t = \\lambda_t A_t k_t^{\\theta} l_t^{-\\theta} (1-\\theta)\\\\\n",
    "&\\lambda_t = \\lambda_{t+1}\\beta[A_{t+1} \\theta k_{t+1}^{\\theta-1} l_{t+1}^{1-\\theta} + (1-\\delta)]\n",
    "\\end{aligned}\n",
    "\\end{equation*}\n",
    "\n",
    "With the FOCs, the steady state capital and labor should satisfy\n",
    "\n",
    "\\begin{equation*}\n",
    "\\begin{aligned}\n",
    "&A_t \\theta (\\frac{k^*}{l^*})^{\\theta-1} + (1-\\delta) = \\frac{1}{\\beta}\\\\\n",
    "&2l^{*}= A_t(\\frac{k^*}{l^*})^{\\theta} (1-\\theta)\n",
    "\\end{aligned}\n",
    "\\end{equation*}\n",
    "Now let us define capital per capita in steady state as\n",
    "$$k_l^{s} = \\frac{k^{*}}{l^{*}}$$\n",
    "\n",
    "\n",
    "From FOCs, substitue $\\lambda_t$(using the marginal utility function) and $c_t$(using our budget constraint) , we know that: \n",
    "\\begin{equation*}\n",
    "\\begin{aligned}\n",
    "&f(k) = \\beta[A \\theta k_{t+1}^{\\theta-1} l_{t+1}^{1-\\theta} + (1-\\delta)] - \\frac{[A k_t^{\\theta} l_t^{1-\\theta} + k_t(1-\\delta) - k_{t+1} - l_t^{2}]^{-\\sigma}}{[A k_{t+1}^{\\theta} l_{t+1}^{1-\\theta}+ k_{t+1}(1-\\delta)-k_{t+2}-l_{t+1}^{2}]^{-\\sigma}} =0\n",
    "\\end{aligned}\n",
    "\\end{equation*}\n",
    "\n",
    "\n",
    "\\begin{aligned}\n",
    "&l_t= [\\frac{A k_t^{\\theta} (1-\\theta)}{2}]^{\\frac{1}{(1+\\theta)}}\n",
    "\\end{aligned}\n"
   ]
  },
  {
   "cell_type": "markdown",
   "metadata": {},
   "source": [
    "# 1. Functions"
   ]
  },
  {
   "cell_type": "code",
   "execution_count": 73,
   "metadata": {},
   "outputs": [],
   "source": [
    "class Parameters:\n",
    "    def __init__(self, A, theta, delta, beta, sigma):\n",
    "        '''\n",
    "        A: TFP\n",
    "        theta: capital share in output\n",
    "        delta: depreciation rate\n",
    "        beta: discount factor\n",
    "        '''\n",
    "        self.A = A \n",
    "        self.theta = theta\n",
    "        self.delta = delta\n",
    "        self.beta = beta\n",
    "        self.sigma = sigma"
   ]
  },
  {
   "cell_type": "code",
   "execution_count": 94,
   "metadata": {},
   "outputs": [],
   "source": [
    "#use the function to solve the optimal capital per capita k_l_s in ss\n",
    "def ss_capital_per_capita(self):\n",
    "    k_l_s = ((1 / self.beta + self.delta - 1) / (self.A * self.theta)) ** (1 / (self.theta - 1))\n",
    "    return k_l_s\n",
    "\n",
    "#knowing k_l_s, solve the optimal labor in ss\n",
    "def ss_labor(self):\n",
    "    k_l_s = ss_capital_per_capita(self)\n",
    "    l_star = (1 - self.theta) / 2 * self.A * k_l_s ** self.theta\n",
    "    return l_star\n",
    "\n",
    "# calculate the optimal labor on the path using the current capital\n",
    "def optimal_labor(self, k_0):\n",
    "    l = (self.A * k_0**self.theta * (1 - self.theta) / 2) ** (1 / (1 + self.theta))\n",
    "    return l\n",
    "\n",
    "# once you have the optimal labor, calculate the optimal capital for the next period\n",
    "def optimal_capital_next(self,k_0,c_0):\n",
    "    l_temp = optimal_labor(self, k_0)\n",
    "    return self.A * k_0**self.theta * l_temp**(1 - self.theta) + k_0 * (1 - self.delta) - c_0\n",
    "\n",
    "# define c_{t+1}\n",
    "def optimal_consumption_next(self, k_0, c_0):\n",
    "    l_0 = optimal_labor(self, k_0)\n",
    "    k_1 = optimal_capital_next(self,k_0,c_0)\n",
    "    l_1 = optimal_labor(self,k_1)\n",
    "    MU_0 = (c_0 - (l_0)**(2))**(-self.sigma)\n",
    "    c_1 = (MU_0 / (self.beta*(self.A *self.theta*k_1**(self.theta-1) * (l_0)**(1-self.theta)+(1-self.delta))))**(-1/self.sigma) + (l_1)**(2)\n",
    "    return c_1\n",
    "\n",
    "# def the c_t and k_t path\n",
    "def consumpation_path(self, k_0, c_0, t):\n",
    "    c = np.zeros((t + 1, 1))  \n",
    "    k = np.zeros((t + 1, 1))  \n",
    "    k[0] = k_0\n",
    "    c[0] = c_0\n",
    "    for i in range(t):\n",
    "        k[i + 1] = optimal_capital_next(self, k[i], c[i])  \n",
    "        if k[i + 1] <= 0:\n",
    "            k[i + 1] = 0\n",
    "            break\n",
    "        c[i + 1] = optimal_consumption_next(self, k[i], c[i])  \n",
    "    result = np.hstack((k, c))\n",
    "    return result\n",
    "\n",
    "\n",
    "# define shooting path\n",
    "def optimal_path(self,t,c_max,k_0, k_ss, c0_min=0.001):\n",
    "    c0_max=c_max\n",
    "    ite=0\n",
    "    time = np.arange(0,t+1,1)\n",
    "    while c0_max-c0_min>1e-16:\n",
    "        c0=(c0_min+c0_max)/2\n",
    "        simulation=consumpation_path(self,k_0, c0, t)\n",
    "        if simulation[len(simulation)-1,0]<=k_ss:\n",
    "            c0_max=c0\n",
    "        else:\n",
    "            c0_min=c0\n",
    "        ite+=1\n",
    "    return simulation\n",
    "\n"
   ]
  },
  {
   "cell_type": "markdown",
   "metadata": {},
   "source": [
    "# Answers"
   ]
  },
  {
   "cell_type": "code",
   "execution_count": 75,
   "metadata": {},
   "outputs": [],
   "source": [
    "params = Parameters(beta=0.99, sigma=2, theta=0.3, delta=0.07, A=0.6)"
   ]
  },
  {
   "cell_type": "code",
   "execution_count": 86,
   "metadata": {},
   "outputs": [],
   "source": [
    "import time\n",
    "import pandas as pd\n",
    "import numpy as np\n",
    "import matplotlib.pyplot as plt"
   ]
  },
  {
   "cell_type": "markdown",
   "metadata": {},
   "source": []
  },
  {
   "cell_type": "code",
   "execution_count": 95,
   "metadata": {},
   "outputs": [
    {
     "name": "stdout",
     "output_type": "stream",
     "text": [
      "3.1793256781907986 0.29711173130702273 0.9446149566361424\n"
     ]
    }
   ],
   "source": [
    "k_l_s = ss_capital_per_capita(params) # optimal capital per capita in ss\n",
    "l_ss = ss_labor(params) # optimal labor in ss\n",
    "k_ss = l_ss * k_l_s # optimal captial used in ss\n",
    "print (k_l_s, l_ss, k_ss)"
   ]
  },
  {
   "cell_type": "code",
   "execution_count": 96,
   "metadata": {},
   "outputs": [],
   "source": [
    "k_0 = 0.75 * k_ss\n",
    "k_2 = 0.85 * k_ss\n",
    "c_max = 1\n",
    "t = 150"
   ]
  },
  {
   "cell_type": "code",
   "execution_count": 97,
   "metadata": {},
   "outputs": [
    {
     "data": {
      "text/plain": [
       "array([0.70846122, 0.71749535, 0.72621126, 0.73461775, 0.74272365,\n",
       "       0.75053771, 0.75806863, 0.765325  , 0.77231533, 0.77904799,\n",
       "       0.78553119, 0.79177304, 0.79778145, 0.80356419, 0.80912884,\n",
       "       0.81448281, 0.81963335, 0.82458749, 0.8293521 , 0.83393387,\n",
       "       0.83833928, 0.84257464, 0.84664608, 0.85055954, 0.85432077,\n",
       "       0.85793537, 0.86140873, 0.86474609, 0.86795251, 0.87103289,\n",
       "       0.87399196, 0.87683431, 0.87956434, 0.88218634, 0.8847044 ,\n",
       "       0.88712252, 0.88944453, 0.89167413, 0.89381488, 0.89587023,\n",
       "       0.89784349, 0.89973784, 0.90155638, 0.90330206, 0.90497773,\n",
       "       0.90658614, 0.90812993, 0.90961166, 0.91103377, 0.91239861,\n",
       "       0.91370845, 0.91496548, 0.91617179, 0.91732939, 0.91844023,\n",
       "       0.91950617, 0.920529  , 0.92151045, 0.92245216, 0.92335574,\n",
       "       0.92422271, 0.92505453, 0.92585263, 0.92661836, 0.92735302,\n",
       "       0.92805786, 0.92873408, 0.92938284, 0.93000525, 0.93060238,\n",
       "       0.93117524, 0.93172482, 0.93225206, 0.93275787, 0.93324311,\n",
       "       0.93370862, 0.93415521, 0.93458365, 0.93499466, 0.93538896,\n",
       "       0.93576724, 0.93613014, 0.9364783 , 0.93681231, 0.93713276,\n",
       "       0.93744019, 0.93773515, 0.93801815, 0.93828967, 0.93855019,\n",
       "       0.93880015, 0.93904001, 0.93927016, 0.93949102, 0.93970297,\n",
       "       0.93990637, 0.94010159, 0.94028896, 0.94046881, 0.94064146,\n",
       "       0.94080721, 0.94096634, 0.94111914, 0.94126587, 0.9414068 ,\n",
       "       0.94154217, 0.94167221, 0.94179716, 0.94191725, 0.94203267,\n",
       "       0.94214363, 0.94225033, 0.94235297, 0.94245172, 0.94254675,\n",
       "       0.94263824, 0.94272636, 0.94281125, 0.94289308, 0.94297198,\n",
       "       0.94304811, 0.9431216 , 0.94319258, 0.94326118, 0.94332753,\n",
       "       0.94339176, 0.94345397, 0.94351429, 0.94357283, 0.9436297 ,\n",
       "       0.943685  , 0.94373885, 0.94379134, 0.94384258, 0.94389266,\n",
       "       0.94394169, 0.94398976, 0.94403696, 0.9440834 , 0.94412916,\n",
       "       0.94417434, 0.94421903, 0.94426334, 0.94430734, 0.94435114,\n",
       "       0.94439482, 0.94443849, 0.94448224, 0.94452617, 0.94457037,\n",
       "       0.94461496])"
      ]
     },
     "execution_count": 97,
     "metadata": {},
     "output_type": "execute_result"
    }
   ],
   "source": [
    "k_sq = optimal_path(params, t, c_max, k_0, k_ss, c0_min=0.002)[:, 0]\n",
    "k_sq"
   ]
  },
  {
   "cell_type": "code",
   "execution_count": 98,
   "metadata": {},
   "outputs": [
    {
     "data": {
      "image/png": "[encoded data removed]",
      "text/plain": [
       "<Figure size 1000x600 with 1 Axes>"
      ]
     },
     "metadata": {},
     "output_type": "display_data"
    }
   ],
   "source": [
    "# plot the optimal capital\n",
    "time = np.arange(0, t+1)\n",
    "plt.figure(figsize=(10, 6))\n",
    "plt.plot(time, k_sq, color='blue', label='Optimal capital Path')\n",
    "plt.xlabel('Time')\n",
    "plt.ylabel('Capital (k_t)')\n",
    "plt.title('Optimal Capital Path Over Time')\n",
    "plt.legend()\n",
    "plt.show()"
   ]
  },
  {
   "cell_type": "code",
   "execution_count": null,
   "metadata": {},
   "outputs": [],
   "source": []
  }
 ],
 "metadata": {
  "kernelspec": {
   "display_name": "Python 3",
   "language": "python",
   "name": "python3"
  },
  "language_info": {
   "codemirror_mode": {
    "name": "ipython",
    "version": 3
   },
   "file_extension": ".py",
   "mimetype": "text/x-python",
   "name": "python",
   "nbconvert_exporter": "python",
   "pygments_lexer": "ipython3",
   "version": "3.12.4"
  }
 },
 "nbformat": 4,
 "nbformat_minor": 2
}
