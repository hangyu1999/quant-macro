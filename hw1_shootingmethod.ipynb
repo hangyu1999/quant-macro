{
 "cells": [
  {
   "cell_type": "markdown",
   "metadata": {},
   "source": [
    "After seetting up Lagrange problem, we have first order conditions as\n",
    "\n",
    "\\begin{equation*}\n",
    "\\begin{aligned}\n",
    "&(c_t-l_t^{2})^{-\\sigma} = \\lambda_t\\\\\n",
    "&(c_t-l_t^{2})^{-\\sigma}2l_t = \\lambda_t A_t k_t^{\\theta} l_t^{-\\theta} (1-\\theta)\\\\\n",
    "&\\lambda_t = \\lambda_{t+1}\\beta[A_{t+1} \\theta k_{t+1}^{\\theta-1} l_{t+1}^{1-\\theta} + (1-\\delta)]\n",
    "\\end{aligned}\n",
    "\\end{equation*}\n",
    "\n",
    "With the FOCs, the steady state capital and labor should satisfy\n",
    "\n",
    "\\begin{equation*}\n",
    "\\begin{aligned}\n",
    "&A_t \\theta (\\frac{k^*}{l^*})^{\\theta-1} + (1-\\delta) = \\frac{1}{\\beta}\\\\\n",
    "&2l^{*}= A_t(\\frac{k^*}{l^*})^{\\theta} (1-\\theta)\n",
    "\\end{aligned}\n",
    "\\end{equation*}\n",
    "Now let us define capital per capita in steady state as\n",
    "$$k_l^{s} = \\frac{k^{*}}{l^{*}}$$\n",
    "\n",
    "\n",
    "From FOCs, substitue $\\lambda_t$(using the marginal utility function) and $c_t$(using our budget constraint) , we know that: \n",
    "\\begin{equation*}\n",
    "\\begin{aligned}\n",
    "&f(k) = \\beta[A \\theta k_{t+1}^{\\theta-1} l_{t+1}^{1-\\theta} + (1-\\delta)] - \\frac{[A k_t^{\\theta} l_t^{1-\\theta} + k_t(1-\\delta) - k_{t+1} - l_t^{2}]^{-\\sigma}}{[A k_{t+1}^{\\theta} l_{t+1}^{1-\\theta}+ k_{t+1}(1-\\delta)-k_{t+2}-l_{t+1}^{2}]^{-\\sigma}} =0\n",
    "\\end{aligned}\n",
    "\\end{equation*}\n",
    "\n",
    "\n",
    "\\begin{aligned}\n",
    "&l_t= [\\frac{A k_t^{\\theta} (1-\\theta)}{2}]^{\\frac{1}{(1+\\theta)}}\n",
    "\\end{aligned}\n"
   ]
  },
  {
   "cell_type": "markdown",
   "metadata": {},
   "source": [
    "# 1. Functions"
   ]
  },
  {
   "cell_type": "code",
   "execution_count": 26,
   "metadata": {},
   "outputs": [],
   "source": [
    "class steady_state:\n",
    "    def _init_(self, A, theta, delta, beta, k_0, c_0):\n",
    "        '''\n",
    "        A: TFP\n",
    "        theta: capital share in output\n",
    "        delta: depreciation rate\n",
    "        beta: discount factor\n",
    "        '''\n",
    "        self.A = A \n",
    "        self.theta = theta\n",
    "        self.delta = delta\n",
    "        self.beta = beta\n",
    "        self.k_0 = k_0\n",
    "        self.c_0 = c_0"
   ]
  },
  {
   "cell_type": "code",
   "execution_count": 27,
   "metadata": {},
   "outputs": [],
   "source": [
    "#use the function to solve the optimal capital per capita k_l_s in ss\n",
    "def ss_captial_per_capita(self):\n",
    "    k_l_s = ((1 / self.beta + self.delta - 1) / (self.A * self.theta)) ** (1 / (self.theta - 1))\n",
    "    return k_l_s\n",
    "\n",
    "#knowing k_l_s, solve the optimal labor in ss\n",
    "def ss_labor(self):\n",
    "    k_l_s = self.capital_per_capita()\n",
    "    l_star = ((1 - self.theta) / (2 * self.A * k_l_s ** self.theta))\n",
    "    return l_star\n",
    "\n",
    "# calculate the optimal labor on the path using the current capital\n",
    "def optimal_labor(self):\n",
    "    l = (self.A * self.k_0**self.theta * (1 - self.theta) / 2) ** (1 / (1 + self.theta))\n",
    "    return l\n",
    "\n",
    "# once you have the optimal labor, calculate the optimal capital for the next period\n",
    "def optimal_capital_next(self):\n",
    "    l = self.optimal_labor()\n",
    "    return self.A * self.k_0**self.theta * l**(1 - self.theta) + self.k_0 * (1 - self.delta) - self.c_0\n",
    "    \n",
    " # define the shooting method function"
   ]
  },
  {
   "cell_type": "code",
   "execution_count": null,
   "metadata": {},
   "outputs": [],
   "source": [
    "\n"
   ]
  },
  {
   "cell_type": "markdown",
   "metadata": {},
   "source": []
  },
  {
   "cell_type": "code",
   "execution_count": null,
   "metadata": {},
   "outputs": [],
   "source": []
  }
 ],
 "metadata": {
  "kernelspec": {
   "display_name": "Python 3",
   "language": "python",
   "name": "python3"
  },
  "language_info": {
   "codemirror_mode": {
    "name": "ipython",
    "version": 3
   },
   "file_extension": ".py",
   "mimetype": "text/x-python",
   "name": "python",
   "nbconvert_exporter": "python",
   "pygments_lexer": "ipython3",
   "version": "3.12.4"
  }
 },
 "nbformat": 4,
 "nbformat_minor": 2
}
